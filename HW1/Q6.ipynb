{
  "nbformat": 4,
  "nbformat_minor": 0,
  "metadata": {
    "colab": {
      "name": "Q6.ipynb",
      "provenance": [],
      "collapsed_sections": [],
      "toc_visible": true
    },
    "kernelspec": {
      "name": "python3",
      "display_name": "Python 3"
    },
    "language_info": {
      "name": "python"
    }
  },
  "cells": [
    {
      "cell_type": "markdown",
      "source": [
        "# Importing Libraries"
      ],
      "metadata": {
        "id": "P5Z2hR7GIOv1"
      }
    },
    {
      "cell_type": "code",
      "source": [
        "! pip install jenkspy"
      ],
      "metadata": {
        "colab": {
          "base_uri": "https://localhost:8080/"
        },
        "id": "w4uL_94WncLn",
        "outputId": "01ee8d02-2b09-4805-f4f1-b9feecd7af66"
      },
      "execution_count": null,
      "outputs": [
        {
          "output_type": "stream",
          "name": "stdout",
          "text": [
            "Collecting jenkspy\n",
            "  Downloading jenkspy-0.2.0.tar.gz (55 kB)\n",
            "\u001b[?25l\r\u001b[K     |██████                          | 10 kB 21.3 MB/s eta 0:00:01\r\u001b[K     |███████████▉                    | 20 kB 4.3 MB/s eta 0:00:01\r\u001b[K     |█████████████████▊              | 30 kB 2.7 MB/s eta 0:00:01\r\u001b[K     |███████████████████████▋        | 40 kB 3.5 MB/s eta 0:00:01\r\u001b[K     |█████████████████████████████▌  | 51 kB 4.3 MB/s eta 0:00:01\r\u001b[K     |████████████████████████████████| 55 kB 1.1 MB/s \n",
            "\u001b[?25hBuilding wheels for collected packages: jenkspy\n",
            "  Building wheel for jenkspy (setup.py) ... \u001b[?25l\u001b[?25hdone\n",
            "  Created wheel for jenkspy: filename=jenkspy-0.2.0-cp37-cp37m-linux_x86_64.whl size=71218 sha256=7894db8c63bd9c7e77dd498f05d7ddc37cfdc3e47739eddefb112f24adf8e440\n",
            "  Stored in directory: /root/.cache/pip/wheels/d8/d1/42/9bd05164ef706b84674905892f0542f8db6ac4a652473ca7e0\n",
            "Successfully built jenkspy\n",
            "Installing collected packages: jenkspy\n",
            "Successfully installed jenkspy-0.2.0\n"
          ]
        }
      ]
    },
    {
      "cell_type": "code",
      "execution_count": null,
      "metadata": {
        "id": "u7rsXap7HoKs"
      },
      "outputs": [],
      "source": [
        "import numpy as np\n",
        "import pandas as pd\n",
        "import seaborn as sns\n",
        "import matplotlib.pyplot as plt\n",
        "from sklearn.utils import resample\n",
        "import jenkspy\n",
        "from scipy.stats import zscore"
      ]
    },
    {
      "cell_type": "markdown",
      "source": [
        "# Question 6"
      ],
      "metadata": {
        "id": "lCem1zd3Chil"
      }
    },
    {
      "cell_type": "markdown",
      "source": [
        "## Part a"
      ],
      "metadata": {
        "id": "ph28u5s9kjBz"
      }
    },
    {
      "cell_type": "code",
      "source": [
        "arr1 = pd.cut(df_machines['CACH'], bins=3, labels=['A', 'B', 'C'])\n",
        "arr1"
      ],
      "metadata": {
        "colab": {
          "base_uri": "https://localhost:8080/"
        },
        "id": "baxvmL4hknMV",
        "outputId": "00102eaa-7c58-4def-d2dd-6286e3d75267"
      },
      "execution_count": null,
      "outputs": [
        {
          "output_type": "execute_result",
          "data": {
            "text/plain": [
              "0      A\n",
              "1      A\n",
              "2      A\n",
              "3      A\n",
              "4      A\n",
              "      ..\n",
              "203    A\n",
              "204    A\n",
              "205    A\n",
              "206    A\n",
              "207    A\n",
              "Name: CACH, Length: 208, dtype: category\n",
              "Categories (3, object): ['A' < 'B' < 'C']"
            ]
          },
          "metadata": {},
          "execution_count": 61
        }
      ]
    },
    {
      "cell_type": "code",
      "source": [
        "fig, ax = plt.subplots(figsize=(8, 5))\n",
        "sns.histplot(data= arr1, ax=ax)"
      ],
      "metadata": {
        "colab": {
          "base_uri": "https://localhost:8080/",
          "height": 351
        },
        "id": "1cu0VAyKlAGk",
        "outputId": "e6c949f6-5d5c-48b4-a9c8-a1108ff0c543"
      },
      "execution_count": null,
      "outputs": [
        {
          "output_type": "execute_result",
          "data": {
            "text/plain": [
              "<matplotlib.axes._subplots.AxesSubplot at 0x7eff95c6e690>"
            ]
          },
          "metadata": {},
          "execution_count": 62
        },
        {
          "output_type": "display_data",
          "data": {
            "image/png": "[encoded data removed]",
            "text/plain": [
              "<Figure size 576x360 with 1 Axes>"
            ]
          },
          "metadata": {
            "needs_background": "light"
          }
        }
      ]
    },
    {
      "cell_type": "markdown",
      "source": [
        "## Part b"
      ],
      "metadata": {
        "id": "mH-tO8mqkjB8"
      }
    },
    {
      "cell_type": "code",
      "source": [
        "arr2 = pd.qcut(df_machines['CACH'], 3, labels=['D', 'E', 'F'])\n",
        "arr2"
      ],
      "metadata": {
        "colab": {
          "base_uri": "https://localhost:8080/"
        },
        "id": "NM-pnk93koPV",
        "outputId": "4c94aca5-fe0c-40e8-9be8-8e1e2984d9df"
      },
      "execution_count": null,
      "outputs": [
        {
          "output_type": "execute_result",
          "data": {
            "text/plain": [
              "0      F\n",
              "1      F\n",
              "2      F\n",
              "3      F\n",
              "4      F\n",
              "      ..\n",
              "203    D\n",
              "204    F\n",
              "205    D\n",
              "206    F\n",
              "207    D\n",
              "Name: CACH, Length: 208, dtype: category\n",
              "Categories (3, object): ['D' < 'E' < 'F']"
            ]
          },
          "metadata": {},
          "execution_count": 65
        }
      ]
    },
    {
      "cell_type": "code",
      "source": [
        "fig, ax = plt.subplots(figsize=(8, 5))\n",
        "sns.histplot(arr2, ax=ax)"
      ],
      "metadata": {
        "colab": {
          "base_uri": "https://localhost:8080/",
          "height": 351
        },
        "id": "z2FiGSpul6nv",
        "outputId": "82ea0826-512b-40d4-a9ca-0860e663e542"
      },
      "execution_count": null,
      "outputs": [
        {
          "output_type": "execute_result",
          "data": {
            "text/plain": [
              "<matplotlib.axes._subplots.AxesSubplot at 0x7eff957fcf90>"
            ]
          },
          "metadata": {},
          "execution_count": 68
        },
        {
          "output_type": "display_data",
          "data": {
            "image/png": "[encoded data removed]",
            "text/plain": [
              "<Figure size 576x360 with 1 Axes>"
            ]
          },
          "metadata": {
            "needs_background": "light"
          }
        }
      ]
    },
    {
      "cell_type": "markdown",
      "source": [
        "## Part c"
      ],
      "metadata": {
        "id": "bSjb4zXzkjB8"
      }
    },
    {
      "cell_type": "code",
      "source": [
        "breaks = jenkspy.jenks_breaks(df_machines['CACH'], nb_class=3)"
      ],
      "metadata": {
        "id": "JpRE1u4RoXET"
      },
      "execution_count": null,
      "outputs": []
    },
    {
      "cell_type": "code",
      "source": [
        "breaks"
      ],
      "metadata": {
        "colab": {
          "base_uri": "https://localhost:8080/"
        },
        "id": "3gdAe1twsd8o",
        "outputId": "9265045a-e0f6-4975-e3e2-fe4d309facf2"
      },
      "execution_count": null,
      "outputs": [
        {
          "output_type": "execute_result",
          "data": {
            "text/plain": [
              "[0.0, 24.0, 65.0, 256.0]"
            ]
          },
          "metadata": {},
          "execution_count": 77
        }
      ]
    },
    {
      "cell_type": "code",
      "source": [
        "arr3 = pd.cut(df_machines['CACH'], bins=breaks, labels=['G', 'H', 'I'])"
      ],
      "metadata": {
        "id": "61e0pUqZtmWw"
      },
      "execution_count": null,
      "outputs": []
    },
    {
      "cell_type": "code",
      "source": [
        "fig, ax = plt.subplots(figsize=(8, 5))\n",
        "sns.histplot(arr3, ax=ax)"
      ],
      "metadata": {
        "colab": {
          "base_uri": "https://localhost:8080/",
          "height": 351
        },
        "id": "dudDGJnbrw68",
        "outputId": "094bb7bf-7973-46b7-e844-34612af82605"
      },
      "execution_count": null,
      "outputs": [
        {
          "output_type": "execute_result",
          "data": {
            "text/plain": [
              "<matplotlib.axes._subplots.AxesSubplot at 0x7eff94e0c5d0>"
            ]
          },
          "metadata": {},
          "execution_count": 80
        },
        {
          "output_type": "display_data",
          "data": {
            "image/png": "[encoded data removed]",
            "text/plain": [
              "<Figure size 576x360 with 1 Axes>"
            ]
          },
          "metadata": {
            "needs_background": "light"
          }
        }
      ]
    }
  ]
}